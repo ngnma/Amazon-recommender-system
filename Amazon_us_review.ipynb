{
  "cells": [
    {
      "cell_type": "markdown",
      "metadata": {
        "id": "_b94PGOLyva-"
      },
      "source": [
        "## Amazon_us_reviews "
      ]
    },
    {
      "cell_type": "markdown",
      "metadata": {
        "id": "0kN46054y__v"
      },
      "source": [
        "## Load Dataset & Feature selection"
      ]
    },
    {
      "cell_type": "code",
      "execution_count": null,
      "metadata": {
        "id": "zDQzWe88ozCW",
        "colab": {
          "base_uri": "https://localhost:8080/"
        },
        "outputId": "91cb669d-11dc-4888-bb9f-de4b31dd2328"
      },
      "outputs": [
        {
          "output_type": "stream",
          "name": "stdout",
          "text": [
            "\u001b[K     |████████████████████████████████| 4.7 MB 4.3 MB/s \n",
            "\u001b[?25h"
          ]
        }
      ],
      "source": [
        "!pip3 install -q --upgrade tensorflow-datasets"
      ]
    },
    {
      "cell_type": "code",
      "execution_count": null,
      "metadata": {
        "id": "A9D97UhgpAUV"
      },
      "outputs": [],
      "source": [
        "import tensorflow as tf\n",
        "import tensorflow_datasets as tfds"
      ]
    },
    {
      "cell_type": "code",
      "execution_count": null,
      "metadata": {
        "id": "YPfIvuHnp38q"
      },
      "outputs": [],
      "source": [
        "ds, ds_info = tfds.load(\n",
        "    name='amazon_us_reviews/Watches_v1_00',\n",
        "    split='train',\n",
        "    with_info='True'\n",
        ")"
      ]
    },
    {
      "cell_type": "code",
      "execution_count": null,
      "metadata": {
        "colab": {
          "base_uri": "https://localhost:8080/",
          "height": 223
        },
        "id": "8nxMlI5Dvgax",
        "outputId": "eaaca1b7-6d86-4cb8-8675-f76492668a11"
      },
      "outputs": [
        {
          "output_type": "execute_result",
          "data": {
            "text/plain": [
              "   customer_id product_category     product_id  \\\n",
              "0  b'30756603'       b'Watches'  b'B00DKYC7TK'   \n",
              "1  b'45902750'       b'Watches'  b'B004VRD6FY'   \n",
              "2  b'44191588'       b'Watches'  b'B0000C9ZBY'   \n",
              "3   b'5043150'       b'Watches'  b'B005OCVYGI'   \n",
              "4  b'51201224'       b'Watches'  b'B0021AEDQY'   \n",
              "\n",
              "                                       product_title  \\\n",
              "0  b'Ritche 22mm Black Stainless Steel Bracelet W...   \n",
              "1        b\"Timex Men's Expedition Metal Field Watch\"   \n",
              "2        b\"Skagen Men's 233LTTM Titanium Mesh Watch\"   \n",
              "3                      b'Quiksilver Mens Watch Slam'   \n",
              "4  b\"Bulova Men's 98A110 Mechanical Hand-Wind Aut...   \n",
              "\n",
              "                                     review_headline  star_rating  total_votes  \n",
              "0  b'This provided a nice upgraded look for my Pe...            4            1  \n",
              "1                b'Case diameter smaller than specs'            3            1  \n",
              "2                                     b'Three Stars'            3            0  \n",
              "3                    b'bad buy, the band was broken'            1            1  \n",
              "4                                    b'Great Watch!'            5            0  "
            ],
            "text/html": [
              "\n",
              "  <div id=\"df-1b1bc7a1-0810-4226-9c04-753ead2798e5\">\n",
              "    <div class=\"colab-df-container\">\n",
              "      <style type=\"text/css\">\n",
              "</style>\n",
              "<table id=\"T_a9631_\">\n",
              "  <thead>\n",
              "    <tr>\n",
              "      <th class=\"blank level0\" >&nbsp;</th>\n",
              "      <th class=\"col_heading level0 col0\" >customer_id</th>\n",
              "      <th class=\"col_heading level0 col1\" >product_category</th>\n",
              "      <th class=\"col_heading level0 col2\" >product_id</th>\n",
              "      <th class=\"col_heading level0 col3\" >product_title</th>\n",
              "      <th class=\"col_heading level0 col4\" >review_headline</th>\n",
              "      <th class=\"col_heading level0 col5\" >star_rating</th>\n",
              "      <th class=\"col_heading level0 col6\" >total_votes</th>\n",
              "    </tr>\n",
              "  </thead>\n",
              "  <tbody>\n",
              "    <tr>\n",
              "      <th id=\"T_a9631_level0_row0\" class=\"row_heading level0 row0\" >0</th>\n",
              "      <td id=\"T_a9631_row0_col0\" class=\"data row0 col0\" >b'30756603'</td>\n",
              "      <td id=\"T_a9631_row0_col1\" class=\"data row0 col1\" >b'Watches'</td>\n",
              "      <td id=\"T_a9631_row0_col2\" class=\"data row0 col2\" >b'B00DKYC7TK'</td>\n",
              "      <td id=\"T_a9631_row0_col3\" class=\"data row0 col3\" >b'Ritche 22mm Black Stainless Steel Bracelet Watch Band Strap Pebble Time/Pebble Classic'</td>\n",
              "      <td id=\"T_a9631_row0_col4\" class=\"data row0 col4\" >b'This provided a nice upgraded look for my Pebble'</td>\n",
              "      <td id=\"T_a9631_row0_col5\" class=\"data row0 col5\" >4</td>\n",
              "      <td id=\"T_a9631_row0_col6\" class=\"data row0 col6\" >1</td>\n",
              "    </tr>\n",
              "    <tr>\n",
              "      <th id=\"T_a9631_level0_row1\" class=\"row_heading level0 row1\" >1</th>\n",
              "      <td id=\"T_a9631_row1_col0\" class=\"data row1 col0\" >b'45902750'</td>\n",
              "      <td id=\"T_a9631_row1_col1\" class=\"data row1 col1\" >b'Watches'</td>\n",
              "      <td id=\"T_a9631_row1_col2\" class=\"data row1 col2\" >b'B004VRD6FY'</td>\n",
              "      <td id=\"T_a9631_row1_col3\" class=\"data row1 col3\" >b\"Timex Men's Expedition Metal Field Watch\"</td>\n",
              "      <td id=\"T_a9631_row1_col4\" class=\"data row1 col4\" >b'Case diameter smaller than specs'</td>\n",
              "      <td id=\"T_a9631_row1_col5\" class=\"data row1 col5\" >3</td>\n",
              "      <td id=\"T_a9631_row1_col6\" class=\"data row1 col6\" >1</td>\n",
              "    </tr>\n",
              "    <tr>\n",
              "      <th id=\"T_a9631_level0_row2\" class=\"row_heading level0 row2\" >2</th>\n",
              "      <td id=\"T_a9631_row2_col0\" class=\"data row2 col0\" >b'44191588'</td>\n",
              "      <td id=\"T_a9631_row2_col1\" class=\"data row2 col1\" >b'Watches'</td>\n",
              "      <td id=\"T_a9631_row2_col2\" class=\"data row2 col2\" >b'B0000C9ZBY'</td>\n",
              "      <td id=\"T_a9631_row2_col3\" class=\"data row2 col3\" >b\"Skagen Men's 233LTTM Titanium Mesh Watch\"</td>\n",
              "      <td id=\"T_a9631_row2_col4\" class=\"data row2 col4\" >b'Three Stars'</td>\n",
              "      <td id=\"T_a9631_row2_col5\" class=\"data row2 col5\" >3</td>\n",
              "      <td id=\"T_a9631_row2_col6\" class=\"data row2 col6\" >0</td>\n",
              "    </tr>\n",
              "    <tr>\n",
              "      <th id=\"T_a9631_level0_row3\" class=\"row_heading level0 row3\" >3</th>\n",
              "      <td id=\"T_a9631_row3_col0\" class=\"data row3 col0\" >b'5043150'</td>\n",
              "      <td id=\"T_a9631_row3_col1\" class=\"data row3 col1\" >b'Watches'</td>\n",
              "      <td id=\"T_a9631_row3_col2\" class=\"data row3 col2\" >b'B005OCVYGI'</td>\n",
              "      <td id=\"T_a9631_row3_col3\" class=\"data row3 col3\" >b'Quiksilver Mens Watch Slam'</td>\n",
              "      <td id=\"T_a9631_row3_col4\" class=\"data row3 col4\" >b'bad buy, the band was broken'</td>\n",
              "      <td id=\"T_a9631_row3_col5\" class=\"data row3 col5\" >1</td>\n",
              "      <td id=\"T_a9631_row3_col6\" class=\"data row3 col6\" >1</td>\n",
              "    </tr>\n",
              "    <tr>\n",
              "      <th id=\"T_a9631_level0_row4\" class=\"row_heading level0 row4\" >4</th>\n",
              "      <td id=\"T_a9631_row4_col0\" class=\"data row4 col0\" >b'51201224'</td>\n",
              "      <td id=\"T_a9631_row4_col1\" class=\"data row4 col1\" >b'Watches'</td>\n",
              "      <td id=\"T_a9631_row4_col2\" class=\"data row4 col2\" >b'B0021AEDQY'</td>\n",
              "      <td id=\"T_a9631_row4_col3\" class=\"data row4 col3\" >b\"Bulova Men's 98A110 Mechanical Hand-Wind Automatic Silver White Dial Watch\"</td>\n",
              "      <td id=\"T_a9631_row4_col4\" class=\"data row4 col4\" >b'Great Watch!'</td>\n",
              "      <td id=\"T_a9631_row4_col5\" class=\"data row4 col5\" >5</td>\n",
              "      <td id=\"T_a9631_row4_col6\" class=\"data row4 col6\" >0</td>\n",
              "    </tr>\n",
              "  </tbody>\n",
              "</table>\n",
              "\n",
              "      <button class=\"colab-df-convert\" onclick=\"convertToInteractive('df-1b1bc7a1-0810-4226-9c04-753ead2798e5')\"\n",
              "              title=\"Convert this dataframe to an interactive table.\"\n",
              "              style=\"display:none;\">\n",
              "        \n",
              "  <svg xmlns=\"http://www.w3.org/2000/svg\" height=\"24px\"viewBox=\"0 0 24 24\"\n",
              "       width=\"24px\">\n",
              "    <path d=\"M0 0h24v24H0V0z\" fill=\"none\"/>\n",
              "    <path d=\"M18.56 5.44l.94 2.06.94-2.06 2.06-.94-2.06-.94-.94-2.06-.94 2.06-2.06.94zm-11 1L8.5 8.5l.94-2.06 2.06-.94-2.06-.94L8.5 2.5l-.94 2.06-2.06.94zm10 10l.94 2.06.94-2.06 2.06-.94-2.06-.94-.94-2.06-.94 2.06-2.06.94z\"/><path d=\"M17.41 7.96l-1.37-1.37c-.4-.4-.92-.59-1.43-.59-.52 0-1.04.2-1.43.59L10.3 9.45l-7.72 7.72c-.78.78-.78 2.05 0 2.83L4 21.41c.39.39.9.59 1.41.59.51 0 1.02-.2 1.41-.59l7.78-7.78 2.81-2.81c.8-.78.8-2.07 0-2.86zM5.41 20L4 18.59l7.72-7.72 1.47 1.35L5.41 20z\"/>\n",
              "  </svg>\n",
              "      </button>\n",
              "      \n",
              "  <style>\n",
              "    .colab-df-container {\n",
              "      display:flex;\n",
              "      flex-wrap:wrap;\n",
              "      gap: 12px;\n",
              "    }\n",
              "\n",
              "    .colab-df-convert {\n",
              "      background-color: #E8F0FE;\n",
              "      border: none;\n",
              "      border-radius: 50%;\n",
              "      cursor: pointer;\n",
              "      display: none;\n",
              "      fill: #1967D2;\n",
              "      height: 32px;\n",
              "      padding: 0 0 0 0;\n",
              "      width: 32px;\n",
              "    }\n",
              "\n",
              "    .colab-df-convert:hover {\n",
              "      background-color: #E2EBFA;\n",
              "      box-shadow: 0px 1px 2px rgba(60, 64, 67, 0.3), 0px 1px 3px 1px rgba(60, 64, 67, 0.15);\n",
              "      fill: #174EA6;\n",
              "    }\n",
              "\n",
              "    [theme=dark] .colab-df-convert {\n",
              "      background-color: #3B4455;\n",
              "      fill: #D2E3FC;\n",
              "    }\n",
              "\n",
              "    [theme=dark] .colab-df-convert:hover {\n",
              "      background-color: #434B5C;\n",
              "      box-shadow: 0px 1px 3px 1px rgba(0, 0, 0, 0.15);\n",
              "      filter: drop-shadow(0px 1px 2px rgba(0, 0, 0, 0.3));\n",
              "      fill: #FFFFFF;\n",
              "    }\n",
              "  </style>\n",
              "\n",
              "      <script>\n",
              "        const buttonEl =\n",
              "          document.querySelector('#df-1b1bc7a1-0810-4226-9c04-753ead2798e5 button.colab-df-convert');\n",
              "        buttonEl.style.display =\n",
              "          google.colab.kernel.accessAllowed ? 'block' : 'none';\n",
              "\n",
              "        async function convertToInteractive(key) {\n",
              "          const element = document.querySelector('#df-1b1bc7a1-0810-4226-9c04-753ead2798e5');\n",
              "          const dataTable =\n",
              "            await google.colab.kernel.invokeFunction('convertToInteractive',\n",
              "                                                     [key], {});\n",
              "          if (!dataTable) return;\n",
              "\n",
              "          const docLinkHtml = 'Like what you see? Visit the ' +\n",
              "            '<a target=\"_blank\" href=https://colab.research.google.com/notebooks/data_table.ipynb>data table notebook</a>'\n",
              "            + ' to learn more about interactive tables.';\n",
              "          element.innerHTML = '';\n",
              "          dataTable['output_type'] = 'display_data';\n",
              "          await google.colab.output.renderOutput(dataTable, element);\n",
              "          const docLink = document.createElement('div');\n",
              "          docLink.innerHTML = docLinkHtml;\n",
              "          element.appendChild(docLink);\n",
              "        }\n",
              "      </script>\n",
              "    </div>\n",
              "  </div>\n",
              "  "
            ]
          },
          "metadata": {},
          "execution_count": 5
        }
      ],
      "source": [
        "#feature_selection\n",
        "ds = ds.map(\n",
        "    lambda x:{\n",
        "        'customer_id':x['data']['customer_id'],\n",
        "        'product_id':x['data']['product_id'],\n",
        "        'product_category':x['data']['product_category'],\n",
        "        'product_title':x['data']['product_title'],\n",
        "        'star_rating':x['data']['star_rating'],\n",
        "        'total_votes':x['data']['total_votes'],\n",
        "        'review_headline':x['data']['review_headline']\n",
        "    }\n",
        ")\n",
        "\n",
        "tfds.as_dataframe(ds.take(5))"
      ]
    },
    {
      "cell_type": "markdown",
      "metadata": {
        "id": "CE-vrlwLzSa9"
      },
      "source": [
        "## Splite train/test datasets"
      ]
    },
    {
      "cell_type": "code",
      "execution_count": null,
      "metadata": {
        "id": "9IetNQKg0moC"
      },
      "outputs": [],
      "source": [
        "tf.random.set_seed(42)\n",
        "ds = ds.shuffle(\n",
        "    buffer_size = 960_872,\n",
        "    reshuffle_each_iteration=False,\n",
        "    seed=42\n",
        ")"
      ]
    },
    {
      "cell_type": "code",
      "execution_count": null,
      "metadata": {
        "colab": {
          "base_uri": "https://localhost:8080/"
        },
        "id": "8-DWcNPYwhpD",
        "outputId": "16c96fc4-e281-4523-b705-a2d6efcf91c2"
      },
      "outputs": [
        {
          "output_type": "stream",
          "name": "stdout",
          "text": [
            "tf.Tensor(768000, shape=(), dtype=int64)\n",
            "tf.Tensor(192872, shape=(), dtype=int64)\n"
          ]
        }
      ],
      "source": [
        "train = ds.take(768000)\n",
        "test = ds.skip(768000)\n",
        "print(train.__len__())\n",
        "print(test.__len__())"
      ]
    },
    {
      "cell_type": "markdown",
      "metadata": {
        "id": "Mf7Z_wQtzwlP"
      },
      "source": [
        "## Feature preprocessing"
      ]
    },
    {
      "cell_type": "markdown",
      "metadata": {
        "id": "d6JQbMhCz0yz"
      },
      "source": [
        "### Numerical Features\n",
        "\n",
        "\n",
        "*   star_rating\n",
        "*   total_votes"
      ]
    },
    {
      "cell_type": "code",
      "execution_count": null,
      "metadata": {
        "id": "PqsL9Jadzrgp"
      },
      "outputs": [],
      "source": [
        "#star_rating Normalization\n",
        "star_rating_normalization_layer = \\\n",
        "tf.keras.layers.experimental.preprocessing.Normalization(axis=None)\n",
        "\n",
        "star_rating_normalization_layer.adapt(\n",
        "    train.map(\n",
        "        lambda x:x['star_rating']\n",
        "    )\n",
        ")"
      ]
    },
    {
      "cell_type": "code",
      "execution_count": null,
      "metadata": {
        "id": "FP00Dp9F5TCL"
      },
      "outputs": [],
      "source": [
        "for i in train.take(5).as_numpy_iterator():\n",
        "  print(star_rating_normalization_layer(i['star_rating']))"
      ]
    },
    {
      "cell_type": "code",
      "execution_count": null,
      "metadata": {
        "id": "dGoNuzKD1hGI"
      },
      "outputs": [],
      "source": [
        "#total_votes Normalization\n",
        "total_votes_normalization_layer = \\\n",
        "tf.keras.layers.experimental.preprocessing.Normalization(axis=None)\n",
        "\n",
        "total_votes_normalization_layer.adapt(\n",
        "    train.map(\n",
        "        lambda x:x['total_votes']\n",
        "    )\n",
        ")"
      ]
    },
    {
      "cell_type": "code",
      "execution_count": null,
      "metadata": {
        "id": "hFfPsY3k5QSq"
      },
      "outputs": [],
      "source": [
        "for i in train.take(3).as_numpy_iteratore():\n",
        "  print(total_votes_normalization_layer(i['total_votes']))"
      ]
    },
    {
      "cell_type": "markdown",
      "metadata": {
        "id": "3Ighg3gk1q5u"
      },
      "source": [
        "### Categorical Features\n",
        "\n",
        "\n",
        "*   customer_id\n",
        "*   product_id\n",
        "*   product_category"
      ]
    },
    {
      "cell_type": "code",
      "execution_count": null,
      "metadata": {
        "id": "O15wJVSS1_cX"
      },
      "outputs": [],
      "source": [
        "#customer_id StringLookup\n",
        "customer_id_layer = \\\n",
        "tf.keras.layers.experimental.preprocessing.StringLookup(mask_token=None)\n",
        "\n",
        "customer_id_layer.adapt(\n",
        "    train.map(\n",
        "        lambda x:x['customer_id']\n",
        "    )\n",
        ")\n",
        "customer_id_embedding = tf.keras.layers.Embedding(\n",
        "    input_dim = customer_id_layer.vocabulary_size(),\n",
        "    output_dim = 32\n",
        ")"
      ]
    },
    {
      "cell_type": "code",
      "execution_count": null,
      "metadata": {
        "id": "WsLRfML25VMp"
      },
      "outputs": [],
      "source": [
        "# customer_id_model = tf.keras.Sequential([customer_id_layer,customer_id_embedding])\n",
        "# print(customer_id_model(['-2','1']))"
      ]
    },
    {
      "cell_type": "code",
      "execution_count": null,
      "metadata": {
        "id": "PJAXvqAR-TqU"
      },
      "outputs": [],
      "source": [
        "#product_id StringLookup\n",
        "product_id_layer = \\\n",
        "tf.keras.layers.experimental.preprocessing.StringLookup(mask_token=None)\n",
        "\n",
        "product_id_layer.adapt(\n",
        "    train.map(\n",
        "        lambda x:x['product_id']\n",
        "    )\n",
        ")\n",
        "product_id_embedding = tf.keras.layers.Embedding(\n",
        "    input_dim = product_id_layer.vocabulary_size(),\n",
        "    output_dim = 32\n",
        ")"
      ]
    },
    {
      "cell_type": "code",
      "source": [
        "customer_id_model = tf.keras.Sequential([customer_id_layer, customer_id_embedding])\n",
        "product_id_model = tf.keras.Sequential([product_id_layer, product_id_embedding])"
      ],
      "metadata": {
        "id": "EyhXq3hEzBDJ"
      },
      "execution_count": null,
      "outputs": []
    },
    {
      "cell_type": "code",
      "execution_count": null,
      "metadata": {
        "id": "9LRPQ_bQ-bKp"
      },
      "outputs": [],
      "source": [
        "#product_category StringLookup\n",
        "product_category_layer = \\\n",
        "tf.keras.layers.experimental.preprocessing.StringLookup(mask_token=None)\n",
        "\n",
        "product_category_layer.adapt(\n",
        "    train.map(\n",
        "        lambda x:x['product_category']\n",
        "    )\n",
        ")\n",
        "product_category_embedding = tf.keras.layers.Embedding(\n",
        "    input_dim = product_category_layer.vocabulary_size(),\n",
        "    output_dim = 32\n",
        ")"
      ]
    },
    {
      "cell_type": "markdown",
      "metadata": {
        "id": "ZDgbt13C3vpX"
      },
      "source": [
        "### Textual features\n",
        "\n",
        "\n",
        "*   product_title\n",
        "*   review_headline"
      ]
    },
    {
      "cell_type": "code",
      "execution_count": null,
      "metadata": {
        "id": "oa4bvTww377e"
      },
      "outputs": [],
      "source": [
        "#product_title TextVectorization\n",
        "product_title_layer = \\\n",
        "tf.keras.layers.experimental.preprocessing.TextVectorization()\n",
        "\n",
        "product_title_layer.adapt(\n",
        "    train.map(\n",
        "        lambda x:x['product_title']\n",
        "    )\n",
        ")\n",
        "\n",
        "product_title_embedding = \\\n",
        "tf.keras.layers.Embedding(\n",
        "    input_dim = product_title_layer.vocabulary_size(),\n",
        "    output_dim = 32\n",
        ")\n",
        "\n",
        "product_title_model = tf.keras.Sequential([\n",
        "    product_title_layer,\n",
        "    product_title_embedding,\n",
        "    tf.keras.layers.AveragePooling1D()\n",
        "])"
      ]
    },
    {
      "cell_type": "code",
      "execution_count": null,
      "metadata": {
        "id": "cLP_PSSMJxHy"
      },
      "outputs": [],
      "source": [
        "# for row in train.batch(1).map(lambda x:x['product_title']).take(1):\n",
        "#   print(product_title_model(row))"
      ]
    },
    {
      "cell_type": "code",
      "execution_count": null,
      "metadata": {
        "id": "qis-FMBm-2VX"
      },
      "outputs": [],
      "source": [
        "#review_headline TextVectorization\n",
        "review_headline_layer = \\\n",
        "tf.keras.layers.experimental.preprocessing.TextVectorization()\n",
        "\n",
        "review_headline_layer.adapt(\n",
        "    train.map(\n",
        "        lambda x:x['review_headline']\n",
        "    )\n",
        ")\n",
        "\n",
        "review_headline_embedding = \\\n",
        "tf.keras.layers.Embedding(\n",
        "    input_dim = review_headline_layer.vocabulary_size(),\n",
        "    output_dim = 32\n",
        ")\n",
        "\n",
        "review_headline_model = tf.keras.Sequential([\n",
        "    review_headline_layer,\n",
        "    review_headline_embedding,\n",
        "    tf.keras.layers.AveragePooling1D()\n",
        "])"
      ]
    }
  ],
  "metadata": {
    "colab": {
      "provenance": []
    },
    "kernelspec": {
      "display_name": "Python 3",
      "name": "python3"
    },
    "language_info": {
      "name": "python"
    }
  },
  "nbformat": 4,
  "nbformat_minor": 0
}